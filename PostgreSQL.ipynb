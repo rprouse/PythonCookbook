{
 "nbformat": 4,
 "nbformat_minor": 2,
 "metadata": {
  "language_info": {
   "name": "python",
   "codemirror_mode": {
    "name": "ipython",
    "version": 3
   },
   "version": "3.7.6-final"
  },
  "orig_nbformat": 2,
  "file_extension": ".py",
  "mimetype": "text/x-python",
  "name": "python",
  "npconvert_exporter": "python",
  "pygments_lexer": "ipython3",
  "version": 3,
  "kernelspec": {
   "name": "python3",
   "display_name": "Python 3"
  }
 },
 "cells": [
  {
   "cell_type": "markdown",
   "metadata": {},
   "source": [
    "# PostgreSQL with Python\n",
    "\n",
    "You must install the `psycopg2` module"
   ]
  },
  {
   "cell_type": "markdown",
   "metadata": {},
   "source": [
    "## Connect to the postgres database"
   ]
  },
  {
   "cell_type": "code",
   "execution_count": 2,
   "metadata": {},
   "outputs": [],
   "source": [
    "import psycopg2\n",
    "from psycopg2 import OperationalError\n",
    "\n",
    "def create_connection(db_name, db_user, db_password, db_host, db_port):\n",
    "    connection = None\n",
    "    try:\n",
    "        connection = psycopg2.connect(\n",
    "            database=db_name,\n",
    "            user=db_user,\n",
    "            password=db_password,\n",
    "            host=db_host,\n",
    "            port=db_port,\n",
    "        )\n",
    "        print(\"Connection to PostgreSQL DB successful\")\n",
    "    except OperationalError as e:\n",
    "        print(f\"The error '{e}' occurred\")\n",
    "    return connection"
   ]
  },
  {
   "cell_type": "code",
   "execution_count": 4,
   "metadata": {},
   "outputs": [
    {
     "name": "stdout",
     "output_type": "stream",
     "text": "Connection to PostgreSQL DB successful\n"
    }
   ],
   "source": [
    "connection = create_connection(\n",
    "    \"postgres\", \"postgres\", \"password\", \"127.0.0.1\", \"5432\"\n",
    ")"
   ]
  },
  {
   "cell_type": "markdown",
   "metadata": {},
   "source": [
    "## Create a database"
   ]
  },
  {
   "cell_type": "code",
   "execution_count": 5,
   "metadata": {},
   "outputs": [
    {
     "name": "stdout",
     "output_type": "stream",
     "text": "Query executed successfully\n"
    }
   ],
   "source": [
    "def create_database(connection, query):\n",
    "    connection.autocommit = True\n",
    "    cursor = connection.cursor()\n",
    "    try:\n",
    "        cursor.execute(query)\n",
    "        print(\"Query executed successfully\")\n",
    "    except OperationalError as e:\n",
    "        print(f\"The error '{e}' occurred\")\n",
    "\n",
    "create_database_query = \"CREATE DATABASE jupyter_test\"\n",
    "create_database(connection, create_database_query)"
   ]
  },
  {
   "cell_type": "markdown",
   "metadata": {},
   "source": [
    "## Connect to the database you created"
   ]
  },
  {
   "cell_type": "code",
   "execution_count": 12,
   "metadata": {},
   "outputs": [
    {
     "name": "stdout",
     "output_type": "stream",
     "text": "Connection to PostgreSQL DB successful\n"
    }
   ],
   "source": [
    "connection = create_connection(\n",
    "    \"jupyter_test\", \"postgres\", \"password\", \"127.0.0.1\", \"5432\"\n",
    ")"
   ]
  },
  {
   "cell_type": "markdown",
   "metadata": {},
   "source": [
    "## Creating Tables"
   ]
  },
  {
   "cell_type": "code",
   "execution_count": 10,
   "metadata": {},
   "outputs": [],
   "source": [
    "def execute_query(connection, query):\n",
    "    connection.autocommit = True\n",
    "    cursor = connection.cursor()\n",
    "    try:\n",
    "        cursor.execute(query)\n",
    "        print(\"Query executed successfully\")\n",
    "    except OperationalError as e:\n",
    "        print(f\"The error '{e}' occurred\")"
   ]
  },
  {
   "cell_type": "code",
   "execution_count": 13,
   "metadata": {},
   "outputs": [
    {
     "name": "stdout",
     "output_type": "stream",
     "text": "Query executed successfully\n"
    }
   ],
   "source": [
    "create_users_table = \"\"\"\n",
    "CREATE TABLE IF NOT EXISTS users (\n",
    "  id SERIAL PRIMARY KEY,\n",
    "  name TEXT NOT NULL, \n",
    "  age INTEGER,\n",
    "  gender TEXT,\n",
    "  nationality TEXT\n",
    ")\n",
    "\"\"\"\n",
    "\n",
    "execute_query(connection, create_users_table)"
   ]
  },
  {
   "cell_type": "code",
   "execution_count": 14,
   "metadata": {},
   "outputs": [
    {
     "name": "stdout",
     "output_type": "stream",
     "text": "Query executed successfully\n"
    }
   ],
   "source": [
    "create_posts_table = \"\"\"\n",
    "CREATE TABLE IF NOT EXISTS posts (\n",
    "  id SERIAL PRIMARY KEY, \n",
    "  title TEXT NOT NULL, \n",
    "  description TEXT NOT NULL, \n",
    "  user_id INTEGER REFERENCES users(id)\n",
    ")\n",
    "\"\"\"\n",
    "\n",
    "execute_query(connection, create_posts_table)"
   ]
  },
  {
   "cell_type": "code",
   "execution_count": 15,
   "metadata": {},
   "outputs": [
    {
     "name": "stdout",
     "output_type": "stream",
     "text": "Query executed successfully\nQuery executed successfully\n"
    }
   ],
   "source": [
    "create_comments_table = \"\"\"\n",
    "CREATE TABLE IF NOT EXISTS comments (\n",
    "  id SERIAL PRIMARY KEY, \n",
    "  text TEXT NOT NULL, \n",
    "  user_id INTEGER REFERENCES users(id), \n",
    "  post_id INTEGER REFERENCES posts(id)\n",
    ");\n",
    "\"\"\"\n",
    "\n",
    "create_likes_table = \"\"\"\n",
    "CREATE TABLE IF NOT EXISTS likes (\n",
    "  id SERIAL PRIMARY KEY, \n",
    "  user_id INTEGER REFERENCES users(id), \n",
    "  post_id INTEGER REFERENCES posts(id)\n",
    ");\n",
    "\"\"\"\n",
    "\n",
    "execute_query(connection, create_comments_table)  \n",
    "execute_query(connection, create_likes_table)    "
   ]
  },
  {
   "cell_type": "markdown",
   "metadata": {},
   "source": [
    "## Inserting Data"
   ]
  },
  {
   "cell_type": "code",
   "execution_count": 16,
   "metadata": {},
   "outputs": [],
   "source": [
    "users = [\n",
    "    (\"James\", 25, \"male\", \"USA\"),\n",
    "    (\"Leila\", 32, \"female\", \"France\"),\n",
    "    (\"Brigitte\", 35, \"female\", \"England\"),\n",
    "    (\"Mike\", 40, \"male\", \"Denmark\"),\n",
    "    (\"Elizabeth\", 21, \"female\", \"Canada\"),\n",
    "]\n",
    "\n",
    "user_records = \", \".join([\"%s\"] * len(users))\n",
    "\n",
    "insert_query = (\n",
    "    f\"INSERT INTO users (name, age, gender, nationality) VALUES {user_records}\"\n",
    ")\n",
    "\n",
    "connection.autocommit = True\n",
    "cursor = connection.cursor()\n",
    "cursor.execute(insert_query, users)"
   ]
  },
  {
   "cell_type": "code",
   "execution_count": 17,
   "metadata": {},
   "outputs": [],
   "source": [
    "posts = [\n",
    "    (\"Happy\", \"I am feeling very happy today\", 1),\n",
    "    (\"Hot Weather\", \"The weather is very hot today\", 2),\n",
    "    (\"Help\", \"I need some help with my work\", 2),\n",
    "    (\"Great News\", \"I am getting married\", 1),\n",
    "    (\"Interesting Game\", \"It was a fantastic game of tennis\", 5),\n",
    "    (\"Party\", \"Anyone up for a late-night party today?\", 3),\n",
    "]\n",
    "\n",
    "post_records = \", \".join([\"%s\"] * len(posts))\n",
    "\n",
    "insert_query = (\n",
    "    f\"INSERT INTO posts (title, description, user_id) VALUES {post_records}\"\n",
    ")\n",
    "\n",
    "connection.autocommit = True\n",
    "cursor = connection.cursor()\n",
    "cursor.execute(insert_query, posts)"
   ]
  },
  {
   "cell_type": "markdown",
   "metadata": {},
   "source": [
    "## Selecting Records"
   ]
  },
  {
   "cell_type": "code",
   "execution_count": 18,
   "metadata": {},
   "outputs": [],
   "source": [
    "def execute_read_query(connection, query):\n",
    "    cursor = connection.cursor()\n",
    "    result = None\n",
    "    try:\n",
    "        cursor.execute(query)\n",
    "        result = cursor.fetchall()\n",
    "        return result\n",
    "    except OperationalError as e:\n",
    "        print(f\"The error '{e}' occurred\")"
   ]
  },
  {
   "cell_type": "code",
   "execution_count": 19,
   "metadata": {},
   "outputs": [
    {
     "name": "stdout",
     "output_type": "stream",
     "text": "(1, 'James', 25, 'male', 'USA')\n(2, 'Leila', 32, 'female', 'France')\n(3, 'Brigitte', 35, 'female', 'England')\n(4, 'Mike', 40, 'male', 'Denmark')\n(5, 'Elizabeth', 21, 'female', 'Canada')\n"
    }
   ],
   "source": [
    "select_users = \"SELECT * FROM users\"\n",
    "users = execute_read_query(connection, select_users)\n",
    "\n",
    "for user in users:\n",
    "    print(user)"
   ]
  },
  {
   "cell_type": "code",
   "execution_count": null,
   "metadata": {},
   "outputs": [],
   "source": []
  }
 ]
}